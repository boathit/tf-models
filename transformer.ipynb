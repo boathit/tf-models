{
 "cells": [
  {
   "cell_type": "markdown",
   "metadata": {},
   "source": [
    "A transformer model handles variable-sized input using stacks of self-attention layers, and thus\n",
    "\n",
    "* It makes no assumption about the temporal/spatial relationships across the data.\n",
    "* Distant items can affect each other's output without passing through many RNN-steps.\n",
    "* It can learn long-range dependencies.\n",
    "\n"
   ]
  },
  {
   "cell_type": "code",
   "execution_count": 2,
   "metadata": {},
   "outputs": [],
   "source": [
    "import tensorflow as tf\n",
    "import tensorflow.keras as tfk\n",
    "import tensorflow_datasets as tfds\n",
    "import numpy as np\n",
    "\n",
    "import time\n",
    "import matplotlib.pyplot as plt"
   ]
  },
  {
   "cell_type": "code",
   "execution_count": 3,
   "metadata": {},
   "outputs": [
    {
     "name": "stdout",
     "output_type": "stream",
     "text": [
      "2.0.0-dev20190415\n"
     ]
    }
   ],
   "source": [
    "print(tf.__version__)"
   ]
  },
  {
   "cell_type": "markdown",
   "metadata": {},
   "source": [
    "# Preparing dataset"
   ]
  },
  {
   "cell_type": "code",
   "execution_count": 4,
   "metadata": {},
   "outputs": [],
   "source": [
    "examples, metadata = tfds.load('ted_hrlr_translate/pt_to_en', with_info=True,\n",
    "                               as_supervised=True)\n",
    "train_examples, val_examples = examples['train'], examples['validation']"
   ]
  },
  {
   "cell_type": "code",
   "execution_count": 5,
   "metadata": {},
   "outputs": [],
   "source": [
    "tokenizer_en = tfds.features.text.SubwordTextEncoder.build_from_corpus(\n",
    "    (en.numpy() for pt, en in train_examples), \n",
    "    target_vocab_size=2**13)"
   ]
  },
  {
   "cell_type": "code",
   "execution_count": 6,
   "metadata": {},
   "outputs": [],
   "source": [
    "tokenizer_pt = tfds.features.text.SubwordTextEncoder.build_from_corpus(\n",
    "    (pt.numpy() for pt, en in train_examples),\n",
    "    target_vocab_size=2**13)"
   ]
  },
  {
   "cell_type": "code",
   "execution_count": 7,
   "metadata": {},
   "outputs": [
    {
     "name": "stdout",
     "output_type": "stream",
     "text": [
      "Tokenized string is [7915, 1248, 7946, 7194, 13, 2799, 7877]\n",
      "The original string: Transformer is awesome.\n"
     ]
    }
   ],
   "source": [
    "sample_string = 'Transformer is awesome.'\n",
    "\n",
    "tokenized_string = tokenizer_en.encode(sample_string)\n",
    "print('Tokenized string is {}'.format(tokenized_string))\n",
    "\n",
    "original_string = tokenizer_en.decode(tokenized_string)\n",
    "print('The original string: {}'.format(original_string))\n",
    "\n",
    "assert original_string == sample_string"
   ]
  },
  {
   "cell_type": "code",
   "execution_count": 8,
   "metadata": {},
   "outputs": [
    {
     "data": {
      "text/plain": [
       "[7915, 1248, 7946, 7194, 13, 2799, 7877]"
      ]
     },
     "execution_count": 8,
     "metadata": {},
     "output_type": "execute_result"
    }
   ],
   "source": [
    "tokenized_string"
   ]
  },
  {
   "cell_type": "code",
   "execution_count": 9,
   "metadata": {},
   "outputs": [],
   "source": [
    "BUFFER_SIZE = 20000\n",
    "BATCH_SIZE = 64"
   ]
  },
  {
   "cell_type": "code",
   "execution_count": 10,
   "metadata": {},
   "outputs": [],
   "source": [
    "def encode(lang1, lang2):\n",
    "    lang1 = [tokenizer_pt.vocab_size] + tokenizer_pt.encode(lang1.numpy()) \\\n",
    "        + [tokenizer_pt.vocab_size+1]\n",
    "        \n",
    "    lang2 = [tokenizer_en.vocab_size] + tokenizer_en.encode(lang2.numpy()) \\\n",
    "        + [tokenizer_en.vocab_size+1]\n",
    "        \n",
    "    return lang1, lang2"
   ]
  },
  {
   "cell_type": "code",
   "execution_count": 11,
   "metadata": {},
   "outputs": [],
   "source": [
    "MAX_LENGTH = 40\n",
    "\n",
    "def filter_max_length(x, y, max_length=MAX_LENGTH):\n",
    "    return tf.logical_and(tf.size(x) <= max_length,\n",
    "                          tf.size(y) <= max_length)"
   ]
  },
  {
   "cell_type": "code",
   "execution_count": 12,
   "metadata": {},
   "outputs": [],
   "source": [
    "def tf_encode(pt, en):\n",
    "    return tf.py_function(encode, [pt, en], [tf.int64, tf.int64])"
   ]
  },
  {
   "cell_type": "code",
   "execution_count": 13,
   "metadata": {},
   "outputs": [],
   "source": [
    "train_dataset = train_examples.map(tf_encode)\n",
    "train_dataset = train_dataset.filter(filter_max_length)"
   ]
  },
  {
   "cell_type": "code",
   "execution_count": 14,
   "metadata": {},
   "outputs": [],
   "source": [
    "train_dataset = train_dataset.cache()\n",
    "train_dataset = train_dataset.shuffle(BUFFER_SIZE).padded_batch(\n",
    "    BATCH_SIZE, padded_shapes=([-1], [-1]))\n",
    "train_dataset = train_dataset.prefetch(tf.data.experimental.AUTOTUNE)"
   ]
  },
  {
   "cell_type": "code",
   "execution_count": 15,
   "metadata": {},
   "outputs": [],
   "source": [
    "val_dataset = val_examples.map(tf_encode)\n",
    "val_dataset = val_dataset.filter(filter_max_length).padded_batch(\n",
    "    BATCH_SIZE, padded_shapes=([-1], [-1]))"
   ]
  },
  {
   "cell_type": "code",
   "execution_count": 16,
   "metadata": {},
   "outputs": [
    {
     "name": "stderr",
     "output_type": "stream",
     "text": [
      "WARNING: Logging before flag parsing goes to stderr.\n",
      "W0603 11:02:22.471614 140058849949440 backprop.py:820] The dtype of the watched tensor must be floating (e.g. tf.float32), got tf.string\n",
      "W0603 11:02:22.474171 140058849949440 backprop.py:820] The dtype of the watched tensor must be floating (e.g. tf.float32), got tf.string\n",
      "W0603 11:02:22.476275 140059370034944 backprop.py:820] The dtype of the watched tensor must be floating (e.g. tf.float32), got tf.string\n",
      "W0603 11:02:22.477565 140059370034944 backprop.py:820] The dtype of the watched tensor must be floating (e.g. tf.float32), got tf.string\n",
      "W0603 11:02:22.479727 140058849949440 backprop.py:820] The dtype of the watched tensor must be floating (e.g. tf.float32), got tf.string\n"
     ]
    },
    {
     "data": {
      "text/plain": [
       "(<tf.Tensor: id=311410, shape=(64, 40), dtype=int64, numpy=\n",
       " array([[8214, 1259,    5, ...,    0,    0,    0],\n",
       "        [8214,  299,   13, ...,    0,    0,    0],\n",
       "        [8214,   59,    8, ...,    0,    0,    0],\n",
       "        ...,\n",
       "        [8214,   95,    3, ...,    0,    0,    0],\n",
       "        [8214, 5157,    1, ...,    0,    0,    0],\n",
       "        [8214, 4479, 7990, ...,    0,    0,    0]])>,\n",
       " <tf.Tensor: id=311411, shape=(64, 40), dtype=int64, numpy=\n",
       " array([[8087,   18,   12, ...,    0,    0,    0],\n",
       "        [8087,  634,   30, ...,    0,    0,    0],\n",
       "        [8087,   16,   13, ...,    0,    0,    0],\n",
       "        ...,\n",
       "        [8087,   12,   20, ...,    0,    0,    0],\n",
       "        [8087,   17, 4981, ...,    0,    0,    0],\n",
       "        [8087,   12, 5453, ...,    0,    0,    0]])>)"
      ]
     },
     "execution_count": 16,
     "metadata": {},
     "output_type": "execute_result"
    }
   ],
   "source": [
    "pt_batch, en_batch = next(iter(val_dataset))\n",
    "pt_batch, en_batch"
   ]
  },
  {
   "cell_type": "code",
   "execution_count": 26,
   "metadata": {},
   "outputs": [
    {
     "data": {
      "text/plain": [
       "<tf.Tensor: id=311454, shape=(2, 40), dtype=int64, numpy=\n",
       "array([[8214, 1259,    5,   63, 5284,   50,  277,    2, 8215,    0,    0,\n",
       "           0,    0,    0,    0,    0,    0,    0,    0,    0,    0,    0,\n",
       "           0,    0,    0,    0,    0,    0,    0,    0,    0,    0,    0,\n",
       "           0,    0,    0,    0,    0,    0,    0],\n",
       "       [8214,  299,   13,  803, 6422,   33, 5306,   40, 1236,   17, 4347,\n",
       "        1189,   17, 1784, 1412, 7144,  829, 8215,    0,    0,    0,    0,\n",
       "           0,    0,    0,    0,    0,    0,    0,    0,    0,    0,    0,\n",
       "           0,    0,    0,    0,    0,    0,    0]])>"
      ]
     },
     "execution_count": 26,
     "metadata": {},
     "output_type": "execute_result"
    }
   ],
   "source": [
    "pt_batch[0:2]"
   ]
  },
  {
   "cell_type": "code",
   "execution_count": 27,
   "metadata": {},
   "outputs": [],
   "source": [
    "def get_angles(pos, i, d_model):\n",
    "    angle_rates = 1 / np.power(10000, (2 * (i//2)) / np.float32(d_model))\n",
    "    return pos * angle_rates"
   ]
  },
  {
   "cell_type": "code",
   "execution_count": 36,
   "metadata": {},
   "outputs": [],
   "source": [
    "def positional_encoding(position, d_model):\n",
    "    angle_rads = get_angles(np.arange(position)[:, np.newaxis],\n",
    "                            np.arange(d_model)[np.newaxis, :],\n",
    "                            d_model)\n",
    "    \n",
    "    sines = np.sin(angle_rads[:, 0::2])\n",
    "    cosines = np.cos(angle_rads[:, 1::2])\n",
    "    \n",
    "    pos_encoding = np.concatenate([sines, cosines], axis=-1)\n",
    "    pos_encoding = pos_encoding[np.newaxis, ...]\n",
    "    \n",
    "    return tf.cast(pos_encoding, dtype=tf.float32)"
   ]
  },
  {
   "cell_type": "code",
   "execution_count": 37,
   "metadata": {},
   "outputs": [
    {
     "name": "stdout",
     "output_type": "stream",
     "text": [
      "(1, 50, 512)\n"
     ]
    }
   ],
   "source": [
    "pos_encoding = positional_encoding(50, 512)\n",
    "print(pos_encoding.shape)"
   ]
  },
  {
   "cell_type": "code",
   "execution_count": 38,
   "metadata": {},
   "outputs": [
    {
     "data": {
      "image/png": "[encoded data removed]",
      "text/plain": [
       "<Figure size 432x288 with 2 Axes>"
      ]
     },
     "metadata": {
      "needs_background": "light"
     },
     "output_type": "display_data"
    }
   ],
   "source": [
    "plt.pcolormesh(pos_encoding[0], cmap='RdBu')\n",
    "plt.xlabel('Depth')\n",
    "plt.xlim((0, 512))\n",
    "plt.ylabel('Position')\n",
    "plt.colorbar()\n",
    "plt.show()"
   ]
  },
  {
   "cell_type": "markdown",
   "metadata": {},
   "source": [
    "## Masking"
   ]
  },
  {
   "cell_type": "code",
   "execution_count": 49,
   "metadata": {},
   "outputs": [],
   "source": [
    "def create_padding_mask(seq):\n",
    "    seq = tf.cast(tf.math.equal(seq, 0), tf.float32)\n",
    "    \n",
    "    return seq[:, tf.newaxis, tf.newaxis, :]"
   ]
  },
  {
   "cell_type": "code",
   "execution_count": 50,
   "metadata": {},
   "outputs": [
    {
     "data": {
      "text/plain": [
       "<tf.Tensor: id=311470, shape=(3, 1, 1, 5), dtype=float32, numpy=\n",
       "array([[[[0., 0., 1., 1., 0.]]],\n",
       "\n",
       "\n",
       "       [[[0., 0., 0., 1., 1.]]],\n",
       "\n",
       "\n",
       "       [[[1., 1., 1., 0., 0.]]]], dtype=float32)>"
      ]
     },
     "execution_count": 50,
     "metadata": {},
     "output_type": "execute_result"
    }
   ],
   "source": [
    "x = tf.constant([[7, 6, 0, 0, 1], [1, 2, 3, 0, 0], [0, 0, 0, 4, 5]])\n",
    "create_padding_mask(x)"
   ]
  },
  {
   "cell_type": "code",
   "execution_count": 61,
   "metadata": {},
   "outputs": [
    {
     "data": {
      "text/plain": [
       "<tf.Tensor: id=311529, shape=(4, 4), dtype=float32, numpy=\n",
       "array([[1., 0., 0., 0.],\n",
       "       [1., 1., 0., 0.],\n",
       "       [1., 1., 1., 0.],\n",
       "       [1., 1., 1., 1.]], dtype=float32)>"
      ]
     },
     "execution_count": 61,
     "metadata": {},
     "output_type": "execute_result"
    }
   ],
   "source": [
    "tf.linalg.band_part(tf.ones((4, 4)), -1, 0)"
   ]
  },
  {
   "cell_type": "code",
   "execution_count": 62,
   "metadata": {},
   "outputs": [],
   "source": [
    "def create_look_ahead_mask(size):\n",
    "    mask = 1 - tf.linalg.band_part(tf.ones([size, size]), -1, 0)\n",
    "    return mask"
   ]
  },
  {
   "cell_type": "code",
   "execution_count": 66,
   "metadata": {},
   "outputs": [
    {
     "data": {
      "text/plain": [
       "<tf.Tensor: id=311555, shape=(5, 5), dtype=float32, numpy=\n",
       "array([[0., 1., 1., 1., 1.],\n",
       "       [0., 0., 1., 1., 1.],\n",
       "       [0., 0., 0., 1., 1.],\n",
       "       [0., 0., 0., 0., 1.],\n",
       "       [0., 0., 0., 0., 0.]], dtype=float32)>"
      ]
     },
     "execution_count": 66,
     "metadata": {},
     "output_type": "execute_result"
    }
   ],
   "source": [
    "create_look_ahead_mask(5)"
   ]
  },
  {
   "cell_type": "code",
   "execution_count": 74,
   "metadata": {},
   "outputs": [
    {
     "data": {
      "text/plain": [
       "<tf.Tensor: id=311661, shape=(2, 3, 4), dtype=float32, numpy=\n",
       "array([[[2.2463179 , 1.0674183 , 1.323744  , 1.0721802 ],\n",
       "        [2.1103451 , 1.276124  , 1.1072143 , 1.2956295 ],\n",
       "        [2.0462158 , 1.4930547 , 1.0640979 , 1.3854487 ]],\n",
       "\n",
       "       [[1.4006871 , 1.3033803 , 1.6887407 , 0.8317926 ],\n",
       "        [1.0313916 , 1.1334199 , 1.8177315 , 0.69784236],\n",
       "        [1.6147704 , 1.243691  , 1.8701763 , 1.0127685 ]]], dtype=float32)>"
      ]
     },
     "execution_count": 74,
     "metadata": {},
     "output_type": "execute_result"
    }
   ],
   "source": [
    "a = tf.random.uniform([2, 3, 5])\n",
    "b = tf.random.uniform([2, 4, 5])\n",
    "tf.matmul(a, b, transpose_b=True)"
   ]
  },
  {
   "cell_type": "code",
   "execution_count": 193,
   "metadata": {},
   "outputs": [],
   "source": [
    "def create_masks(x, y):\n",
    "    encoder_padding_mask = create_padding_mask(x)\n",
    "    decoder_padding_mask = create_padding_mask(x)\n",
    "    look_ahead_mask = create_look_ahead_mask(y.shape[1])\n",
    "    decoder_padding_mask2 = create_padding_mask(y)\n",
    "    combined_mask = tf.maximum(decoder_padding_mask2, look_ahead_mask)\n",
    "    \n",
    "    return encoder_padding_mask, combined_mask, decoder_padding_mask"
   ]
  },
  {
   "cell_type": "code",
   "execution_count": null,
   "metadata": {},
   "outputs": [],
   "source": []
  },
  {
   "cell_type": "code",
   "execution_count": null,
   "metadata": {},
   "outputs": [],
   "source": []
  },
  {
   "cell_type": "code",
   "execution_count": null,
   "metadata": {},
   "outputs": [],
   "source": []
  },
  {
   "cell_type": "code",
   "execution_count": 78,
   "metadata": {},
   "outputs": [],
   "source": [
    "def scaled_dot_product_attention(q, k, v, mask):\n",
    "    \"\"\"\n",
    "    Input:\n",
    "    q (batch, num_heads, seq_len1, depth1)\n",
    "    k (batch, num_heads, seq_len2, depth1)\n",
    "    v (batch, num_heads, seq_len2, depth2)\n",
    "    \n",
    "    The dimension of batch, num_heads can be empty.\n",
    "    \n",
    "    mask (seq_len1, seq_len2)\n",
    "    \n",
    "    Output:\n",
    "    output (batch, num_heads, seq_len1, depth2)\n",
    "    attention_weights (batch, num_heads, seq_len1, seq_len2)\n",
    "    \"\"\"\n",
    "    ## (batch, num_heads, seq_len1, seq_len2)\n",
    "    qk = tf.matmul(q, k, transpose_b=True)\n",
    "    \n",
    "    dk = tf.cast(k.shape[-1], tf.float32)\n",
    "    ## (batch, num_heads, seq_len1, seq_len2)\n",
    "    scaled_attention_logits = qk / tf.sqrt(dk)\n",
    "    \n",
    "    if mask is not None:\n",
    "        scaled_attention_logits += (mask * -1e9)\n",
    "    \n",
    "    ## (batch, num_heads, seq_len1, seq_len2)\n",
    "    attention_weights = tf.nn.softmax(scaled_attention_logits, axis=-1)\n",
    "    \n",
    "    ## (batch, num_heads, seq_len1, depth2)\n",
    "    output = tf.matmul(attention_weights, v)\n",
    "    \n",
    "    return output, attention_weights"
   ]
  },
  {
   "cell_type": "code",
   "execution_count": 81,
   "metadata": {},
   "outputs": [],
   "source": [
    "q = tf.random.uniform([1, 2, 10])\n",
    "k = tf.random.uniform([1, 3, 10])\n",
    "v = tf.random.uniform([1, 3, 5])\n",
    "\n",
    "output, attention_weights = scaled_dot_product_attention(q, k, v, None)"
   ]
  },
  {
   "cell_type": "code",
   "execution_count": 85,
   "metadata": {},
   "outputs": [
    {
     "name": "stdout",
     "output_type": "stream",
     "text": [
      "(1, 2, 5)\n",
      "(1, 2, 3)\n"
     ]
    }
   ],
   "source": [
    "print(output.shape)\n",
    "print(attention_weights.shape)"
   ]
  },
  {
   "cell_type": "code",
   "execution_count": 96,
   "metadata": {},
   "outputs": [],
   "source": [
    "class MultiHeadAttention(tfk.layers.Layer):\n",
    "    def __init__(self, model_depth, num_heads):\n",
    "        super(MultiHeadAttention, self).__init__()\n",
    "        self.num_heads = num_heads\n",
    "        self.model_depth = model_depth\n",
    "        \n",
    "        assert self.model_depth % self.num_heads == 0\n",
    "        \n",
    "        self.depth = model_depth // self.num_heads\n",
    "        \n",
    "        self.q2q = tfk.layers.Dense(self.model_depth)\n",
    "        self.k2k = tfk.layers.Dense(self.model_depth)\n",
    "        self.v2v = tfk.layers.Dense(self.model_depth)\n",
    "        \n",
    "        self.o2o = tfk.layers.Dense(self.model_depth)\n",
    "        \n",
    "    def split_heads(self, x):\n",
    "        \"\"\"\n",
    "        Input:\n",
    "        x (batch, seq_len, model_depth)\n",
    "        \n",
    "        Output:\n",
    "        o (batch, num_heads, seq_len, depth)\n",
    "        \"\"\"\n",
    "        o = tf.reshape(x, [x.shape[0], -1, self.num_heads, self.depth])\n",
    "        return tf.transpose(o, perm=[0, 2, 1, 3])\n",
    "    \n",
    "    def call(self, q, k, v, mask):\n",
    "        \"\"\"\n",
    "        Input:\n",
    "        q (batch, seq_len1, embedding_size_q)\n",
    "        k (batch, seq_len2, embedding_size_k)\n",
    "        v (batch, seq_len2, embedding_size_v)\n",
    "        mask (seq_len1, seq_len2)\n",
    "        \n",
    "        Output:\n",
    "        o (batch, seq_len1, model_depth)\n",
    "        attention_weigths (batch, num_heads, seq_len1, seq_len2)\n",
    "        \"\"\"\n",
    "        q = self.q2q(q) # (batch, seq_len1, model_depth)\n",
    "        k = self.k2k(k) # (batch, seq_len2, model_depth)\n",
    "        v = self.v2v(v) # (batch, seq_len2, model_depth)\n",
    "        \n",
    "        q = self.split_heads(q) # (batch, num_heads, seq_len1, depth)\n",
    "        k = self.split_heads(k) # (batch, num_heads, seq_len2, depth)\n",
    "        v = self.split_heads(v) # (batch, num_heads, seq_len2, depth)\n",
    "        \n",
    "        ## (batch, num_heads, seq_len1, depth), (batch, num_heads, seq_len1, seq_len2)\n",
    "        o, attention_weights = scaled_dot_product_attention(q, k, v, mask)\n",
    "        \n",
    "        ## (batch, seq_len1, num_heads, depth)\n",
    "        o = tf.transpose(o, perm=[0, 2, 1, 3])\n",
    "        ## (batch, seq_len1, model_depth)\n",
    "        o = tf.reshape(o, [o.shape[0], -1, self.model_depth])\n",
    "        o = self.o2o(o)\n",
    "        return o, attention_weights"
   ]
  },
  {
   "cell_type": "code",
   "execution_count": 97,
   "metadata": {},
   "outputs": [],
   "source": [
    "mha = MultiHeadAttention(model_depth=512, num_heads=8)"
   ]
  },
  {
   "cell_type": "code",
   "execution_count": 101,
   "metadata": {},
   "outputs": [
    {
     "name": "stdout",
     "output_type": "stream",
     "text": [
      "(1, 60, 512)\n",
      "(1, 8, 60, 60)\n"
     ]
    }
   ],
   "source": [
    "y = tf.random.uniform([1, 60, 512]) # (batch, seq_len, model_depth)\n",
    "out, attn = mha(y, y, y, mask=None)\n",
    "print(out.shape)\n",
    "print(attn.shape)"
   ]
  },
  {
   "cell_type": "code",
   "execution_count": 132,
   "metadata": {},
   "outputs": [
    {
     "name": "stdout",
     "output_type": "stream",
     "text": [
      "(1, 60, 512)\n",
      "(1, 8, 60, 30)\n"
     ]
    }
   ],
   "source": [
    "y = tf.random.uniform([1, 60, 512])\n",
    "x = tf.random.uniform([1, 30, 512])\n",
    "out, attn = mha(y, x, x, mask=None)\n",
    "print(out.shape)\n",
    "print(attn.shape)"
   ]
  },
  {
   "cell_type": "markdown",
   "metadata": {},
   "source": [
    "## Pointwise feed forward network"
   ]
  },
  {
   "cell_type": "code",
   "execution_count": 102,
   "metadata": {},
   "outputs": [],
   "source": [
    "def pointwise_feed_forward_network(model_depth, hidden_dim):\n",
    "    return tfk.Sequential([\n",
    "        tfk.layers.Dense(hidden_dim, activation='relu'), \n",
    "        tfk.layers.Dense(model_depth)\n",
    "    ])"
   ]
  },
  {
   "cell_type": "code",
   "execution_count": 105,
   "metadata": {},
   "outputs": [
    {
     "data": {
      "text/plain": [
       "TensorShape([64, 50, 512])"
      ]
     },
     "execution_count": 105,
     "metadata": {},
     "output_type": "execute_result"
    }
   ],
   "source": [
    "ffn = pointwise_feed_forward_network(512, 2048)\n",
    "x = tf.random.uniform([64, 50, 256]) # (batch, seq_len, *)\n",
    "ffn(x).shape"
   ]
  },
  {
   "cell_type": "markdown",
   "metadata": {},
   "source": [
    "## Encoder and decoder"
   ]
  },
  {
   "cell_type": "code",
   "execution_count": 110,
   "metadata": {},
   "outputs": [],
   "source": [
    "class EncoderLayer(tfk.layers.Layer):\n",
    "    def __init__(self, model_depth, num_heads, ffn_hidden_size, dropout_rate=0.1):\n",
    "        super(EncoderLayer, self).__init__()\n",
    "        \n",
    "        self.mha = MultiHeadAttention(model_depth, num_heads)\n",
    "        self.ffn = pointwise_feed_forward_network(model_depth, ffn_hidden_size)\n",
    "        \n",
    "        self.layernorm1 = tfk.layers.LayerNormalization(epsilon=1e-6)\n",
    "        self.layernorm2 = tfk.layers.LayerNormalization(epsilon=1e-6)\n",
    "        \n",
    "        self.dropout1 = tfk.layers.Dropout(dropout_rate)\n",
    "        self.dropout2 = tfk.layers.Dropout(dropout_rate)\n",
    "        \n",
    "    def call(self, x, training, mask):\n",
    "        \"\"\"\n",
    "        Input:\n",
    "        x (batch, seq_len2, model_depth)\n",
    "        training: True or False\n",
    "        mask (seq_len2, seq_len2)\n",
    "        \n",
    "        Output:\n",
    "        o2 (batch, seq_len2, model_depth)\n",
    "        \"\"\"\n",
    "        ## (batch, seq_len2, model_depth)\n",
    "        o1, _ = self.mha(x, x, x, mask)\n",
    "        o1 = self.dropout1(o1, training=training)\n",
    "        o1 = self.layernorm1(x + o1)\n",
    "        \n",
    "        ## (batch, seq_len2, model_depth)\n",
    "        o2 = self.ffn(o1)\n",
    "        o2 = self.dropout2(o2, training=training)\n",
    "        o2 = self.layernorm2(o1 + o2)\n",
    "        \n",
    "        return o2"
   ]
  },
  {
   "cell_type": "code",
   "execution_count": 111,
   "metadata": {},
   "outputs": [],
   "source": [
    "encoder_layer = EncoderLayer(512, 8, 2048)"
   ]
  },
  {
   "cell_type": "code",
   "execution_count": 115,
   "metadata": {},
   "outputs": [
    {
     "data": {
      "text/plain": [
       "TensorShape([64, 43, 512])"
      ]
     },
     "execution_count": 115,
     "metadata": {},
     "output_type": "execute_result"
    }
   ],
   "source": [
    "encoder_output = encoder_layer(tf.random.uniform([64, 43, 512]), False, None)\n",
    "encoder_output.shape"
   ]
  },
  {
   "cell_type": "code",
   "execution_count": 113,
   "metadata": {},
   "outputs": [],
   "source": [
    "class DecoderLayer(tfk.layers.Layer):\n",
    "    def __init__(self, model_depth, num_heads, ffn_hidden_size, dropout_rate=0.1):\n",
    "        super(DecoderLayer, self).__init__()\n",
    "        \n",
    "        self.mha1 = MultiHeadAttention(model_depth, num_heads)\n",
    "        self.mha2 = MultiHeadAttention(model_depth, num_heads)\n",
    "        \n",
    "        self.ffn = pointwise_feed_forward_network(model_depth, ffn_hidden_size)\n",
    "        \n",
    "        self.layernorm1 = tfk.layers.LayerNormalization(epsilon=1e-6)\n",
    "        self.layernorm2 = tfk.layers.LayerNormalization(epsilon=1e-6)\n",
    "        self.layernorm3 = tfk.layers.LayerNormalization(epsilon=1e-6)\n",
    "        \n",
    "        self.dropout1 = tfk.layers.Dropout(dropout_rate)\n",
    "        self.dropout2 = tfk.layers.Dropout(dropout_rate)\n",
    "        self.dropout3 = tfk.layers.Dropout(dropout_rate)\n",
    "        \n",
    "    def call(self, x, encoder_output, training, look_ahead_mask,\n",
    "             padding_mask):\n",
    "        \"\"\"\n",
    "        Input:\n",
    "        x (batch, seq_len1, model_depth): target\n",
    "        encoder_output (batch, seq_len2, model_depth): source\n",
    "        look_ahead_mask (seq_len1, seq_len1): target mask\n",
    "        padding_mask (seq_len1, seq_len2): source mask\n",
    "        \n",
    "        Output:\n",
    "        o3 (batch, seq_len1, model_depth)\n",
    "        attn_weights1 (batch, num_heads, seq_len1, seq_len1)\n",
    "        attn_weights2 (batch, num_heads, seq_len1, seq_len2)\n",
    "        \"\"\"\n",
    "        ## o1 (batch, seq_len1, model_depth)\n",
    "        o1, attn_weights1 = self.mha1(x, x, x, look_ahead_mask)\n",
    "        o1 = self.dropout1(o1, training=training)\n",
    "        o1 = self.layernorm1(o1 + x)\n",
    "        \n",
    "        ## o2 (batch, seq_len1, model_depth)\n",
    "        o2, attn_weights2 = self.mha2(o1, encoder_output, encoder_output, padding_mask)\n",
    "        o2 = self.dropout2(o2, training=training)\n",
    "        o2 = self.layernorm2(o2 + o1)\n",
    "        \n",
    "        ## o3 (batch, seq_len1, model_depth)\n",
    "        o3 = self.ffn(o2)\n",
    "        o3 = self.dropout3(o3, training=training)\n",
    "        o3 = self.layernorm3(o3 + o2)\n",
    "        \n",
    "        return o3, attn_weights1, attn_weights2"
   ]
  },
  {
   "cell_type": "code",
   "execution_count": 114,
   "metadata": {},
   "outputs": [],
   "source": [
    "decoder_layer = DecoderLayer(512, 8, 2048)"
   ]
  },
  {
   "cell_type": "code",
   "execution_count": 117,
   "metadata": {},
   "outputs": [
    {
     "data": {
      "text/plain": [
       "TensorShape([64, 50, 512])"
      ]
     },
     "execution_count": 117,
     "metadata": {},
     "output_type": "execute_result"
    }
   ],
   "source": [
    "decoder_output, _, _ = decoder_layer(tf.random.uniform([64, 50, 512]), encoder_output, \n",
    "                                     False, None, None)\n",
    "decoder_output.shape"
   ]
  },
  {
   "cell_type": "code",
   "execution_count": 129,
   "metadata": {},
   "outputs": [],
   "source": [
    "class Encoder(tfk.layers.Layer):\n",
    "    def __init__(self, num_layers, model_depth, num_heads, ffn_hidden_size,\n",
    "                 input_vocab_size, dropout_rate=0.1, max_length=MAX_LENGTH):\n",
    "        super(Encoder, self).__init__()\n",
    "        \n",
    "        self.model_depth = model_depth\n",
    "        self.num_layers = num_layers\n",
    "        \n",
    "        self.embedding = tfk.layers.Embedding(input_vocab_size, self.model_depth)\n",
    "        self.pos_encoding = positional_encoding(max_length+5, self.model_depth)\n",
    "        \n",
    "        self.encoder_layers = [EncoderLayer(model_depth, num_heads, ffn_hidden_size, \n",
    "                                            dropout_rate) for _ in range(num_layers)]\n",
    "        self.dropout = tfk.layers.Dropout(dropout_rate)\n",
    "        \n",
    "    def call(self, x, training, mask):\n",
    "        \"\"\"\n",
    "        Input:\n",
    "        x (batch, seq_len2)\n",
    "        training: True or False\n",
    "        mask (seq_len2, seq_len2)\n",
    "        \n",
    "        Output:\n",
    "        o (batch, seq_len2, model_depth)\n",
    "        \"\"\"\n",
    "        seq_len = x.shape[1]\n",
    "        \n",
    "        o = self.embedding(x)\n",
    "        o = o * tf.sqrt(self.model_depth * 1.0)\n",
    "        o = o + self.pos_encoding[:, :seq_len, :]\n",
    "        \n",
    "        o = self.dropout(o, training=training)\n",
    "        \n",
    "        for i in range(self.num_layers):\n",
    "            o = self.encoder_layers[i](o, training, mask)\n",
    "            \n",
    "        return o"
   ]
  },
  {
   "cell_type": "code",
   "execution_count": 130,
   "metadata": {},
   "outputs": [],
   "source": [
    "encoder = Encoder(num_layers=2, model_depth=512, num_heads=8,\n",
    "                  ffn_hidden_size=2048, input_vocab_size=8500)"
   ]
  },
  {
   "cell_type": "code",
   "execution_count": 131,
   "metadata": {},
   "outputs": [
    {
     "data": {
      "text/plain": [
       "TensorShape([64, 30, 512])"
      ]
     },
     "execution_count": 131,
     "metadata": {},
     "output_type": "execute_result"
    }
   ],
   "source": [
    "encoder_output = encoder(tf.random.uniform([64, 30]), training=False,\n",
    "                         mask=None)\n",
    "encoder_output.shape"
   ]
  },
  {
   "cell_type": "code",
   "execution_count": 136,
   "metadata": {},
   "outputs": [],
   "source": [
    "class Decoder(tfk.layers.Layer):\n",
    "    def __init__(self, num_layers, model_depth, num_heads, ffn_hidden_size,\n",
    "                 target_vocab_size, dropout_rate=0.1, max_length=MAX_LENGTH):\n",
    "        super(Decoder, self).__init__()\n",
    "        \n",
    "        self.model_depth = model_depth\n",
    "        self.num_layers = num_layers\n",
    "        \n",
    "        self.embedding = tfk.layers.Embedding(target_vocab_size, self.model_depth)\n",
    "        self.pos_encoding = positional_encoding(max_length+5, self.model_depth)\n",
    "        \n",
    "        self.decoder_layers = [DecoderLayer(model_depth, num_heads, ffn_hidden_size,\n",
    "                                            dropout_rate) for _ in range(num_layers)]\n",
    "        self.dropout = tfk.layers.Dropout(dropout_rate)\n",
    "        \n",
    "    def call(self, x, encoder_output, training, \n",
    "             look_ahead_mask, padding_mask):\n",
    "        \"\"\"\n",
    "        Input:\n",
    "        x (batch, seq_len1)\n",
    "        encoder_output (batch, seq_len2, model_depth)\n",
    "        training: True or False\n",
    "        look_ahead_mask (seq_len1, seq_len1)\n",
    "        padding_mask (seq_len1, seq_len2)\n",
    "        \n",
    "        o (batch, seq_len1, model_depth)\n",
    "        \"\"\"\n",
    "        \n",
    "        seq_len = x.shape[1]\n",
    "        attention_weights = {}\n",
    "        \n",
    "        ## (batch, seq_len1, model_depth)\n",
    "        o = self.embedding(x)\n",
    "        o = o * tf.sqrt(tf.cast(self.model_depth, tf.float32))\n",
    "        o = o + self.pos_encoding[:, :seq_len, :]\n",
    "        o = self.dropout(o, training=training)\n",
    "        \n",
    "        for i in range(self.num_layers):\n",
    "            o, block1, block2 = self.decoder_layers[i](o, encoder_output, training,\n",
    "                                                       look_ahead_mask, padding_mask)\n",
    "            \n",
    "            attention_weights['decoder_layer{}_block1'.format(i+1)] = block1\n",
    "            attention_weights['decoder_layer{}_block2'.format(i+1)] = block2\n",
    "            \n",
    "        return o, attention_weights"
   ]
  },
  {
   "cell_type": "code",
   "execution_count": 137,
   "metadata": {},
   "outputs": [],
   "source": [
    "decoder = Decoder(num_layers=2, model_depth=512, num_heads=8,\n",
    "                  ffn_hidden_size=2048, target_vocab_size=8000)"
   ]
  },
  {
   "cell_type": "code",
   "execution_count": 140,
   "metadata": {},
   "outputs": [
    {
     "name": "stdout",
     "output_type": "stream",
     "text": [
      "(64, 30, 512)\n",
      "(64, 26, 512)\n"
     ]
    }
   ],
   "source": [
    "print(encoder_output.shape)\n",
    "decoder_output, attn = decoder(tf.random.uniform([64, 26]), \n",
    "                               encoder_output=encoder_output,\n",
    "                               training=False, look_ahead_mask=None, padding_mask=None)\n",
    "print(decoder_output.shape)"
   ]
  },
  {
   "cell_type": "code",
   "execution_count": 151,
   "metadata": {},
   "outputs": [],
   "source": [
    "class Transformer(tfk.Model):\n",
    "    def __init__(self, num_layers, model_depth, num_heads, ffn_hidden_size,\n",
    "                 input_vocab_size, target_vocab_size, dropout_rate=0.1):\n",
    "        super(Transformer, self).__init__()\n",
    "        \n",
    "        self.encoder = Encoder(num_layers, model_depth, num_heads, ffn_hidden_size,\n",
    "                               input_vocab_size, dropout_rate)\n",
    "        self.decoder = Decoder(num_layers, model_depth, num_heads, ffn_hidden_size,\n",
    "                               target_vocab_size, dropout_rate)\n",
    "        self.final_layer = tfk.layers.Dense(target_vocab_size)\n",
    "        \n",
    "    def call(self, x, y, training, encoder_padding_mask, look_ahead_mask,\n",
    "             decoder_padding_mask):\n",
    "        encoder_output = self.encoder(x, training, encoder_padding_mask)\n",
    "        decoder_output, attention_weights = self.decoder(y, encoder_output, \n",
    "            training, look_ahead_mask, decoder_padding_mask)\n",
    "        o = self.final_layer(decoder_output)\n",
    "        \n",
    "        return o, attention_weights"
   ]
  },
  {
   "cell_type": "code",
   "execution_count": 152,
   "metadata": {},
   "outputs": [],
   "source": [
    "transformer = Transformer(num_layers=2, model_depth=512, num_heads=8, ffn_hidden_size=2048,\n",
    "                          input_vocab_size=8500, target_vocab_size=8000)"
   ]
  },
  {
   "cell_type": "code",
   "execution_count": 170,
   "metadata": {},
   "outputs": [
    {
     "data": {
      "text/plain": [
       "TensorShape([64, 26, 8000])"
      ]
     },
     "execution_count": 170,
     "metadata": {},
     "output_type": "execute_result"
    }
   ],
   "source": [
    "x = tf.random.uniform([64, 32], maxval=8500, dtype=tf.int32)\n",
    "y = tf.random.uniform([64, 26], maxval=8000, dtype=tf.int32)\n",
    "\n",
    "o, _ = transformer(x, y, training=False,\n",
    "                   encoder_padding_mask=None,\n",
    "                   look_ahead_mask=None,\n",
    "                   decoder_padding_mask=None)\n",
    "o.shape"
   ]
  },
  {
   "cell_type": "markdown",
   "metadata": {},
   "source": [
    "## Set hyperparameters"
   ]
  },
  {
   "cell_type": "code",
   "execution_count": 205,
   "metadata": {},
   "outputs": [],
   "source": [
    "num_layers = 4\n",
    "model_depth = 128\n",
    "ffn_hidden_size = 512\n",
    "num_heads = 8\n",
    "\n",
    "input_vocab_size = tokenizer_pt.vocab_size + 2\n",
    "target_vocab_size = tokenizer_en.vocab_size + 2\n",
    "\n",
    "dropout_rate = 0.1\n",
    "\n",
    "EPOCHS = 20"
   ]
  },
  {
   "cell_type": "code",
   "execution_count": null,
   "metadata": {},
   "outputs": [],
   "source": []
  },
  {
   "cell_type": "markdown",
   "metadata": {},
   "source": [
    "## Optimizer"
   ]
  },
  {
   "cell_type": "code",
   "execution_count": 174,
   "metadata": {},
   "outputs": [],
   "source": [
    "class CustomSchedule(tfk.optimizers.schedules.LearningRateSchedule):\n",
    "    def __init__(self, model_depth, warmup_steps=4000):\n",
    "        super(CustomSchedule, self).__init__()\n",
    "        \n",
    "        self.model_depth = tf.cast(model_depth, tf.float32)\n",
    "        self.warmup_steps = warmup_steps\n",
    "        \n",
    "    def __call__(self, step):\n",
    "        a = tf.math.rsqrt(step)\n",
    "        b = step * (self.warmup_steps ** -1.5)\n",
    "        \n",
    "        return tf.math.rsqrt(self.model_depth) * tf.math.minimum(a, b)"
   ]
  },
  {
   "cell_type": "code",
   "execution_count": 179,
   "metadata": {},
   "outputs": [],
   "source": [
    "lr = CustomSchedule(model_depth)\n",
    "optimizer = tfk.optimizers.Adam(lr, beta_1=0.9, beta_2=0.98, epsilon=1e-9)"
   ]
  },
  {
   "cell_type": "code",
   "execution_count": 182,
   "metadata": {},
   "outputs": [
    {
     "data": {
      "text/plain": [
       "[<matplotlib.lines.Line2D at 0x7f61d9324320>]"
      ]
     },
     "execution_count": 182,
     "metadata": {},
     "output_type": "execute_result"
    },
    {
     "data": {
      "image/png": "[encoded data removed]",
      "text/plain": [
       "<Figure size 432x288 with 1 Axes>"
      ]
     },
     "metadata": {
      "needs_background": "light"
     },
     "output_type": "display_data"
    }
   ],
   "source": [
    "tmp_lr = CustomSchedule(model_depth)\n",
    "plt.plot(tmp_lr(tf.range(40000, dtype=tf.float32)))"
   ]
  },
  {
   "cell_type": "markdown",
   "metadata": {},
   "source": [
    "## Loss and metrics"
   ]
  },
  {
   "cell_type": "code",
   "execution_count": 262,
   "metadata": {},
   "outputs": [],
   "source": [
    "loss_object = tfk.losses.SparseCategoricalCrossentropy(from_logits=True, reduction='none')\n",
    "\n",
    "def loss_function(y, ŷ):\n",
    "    mask = tf.math.logical_not(tf.math.equal(y, 0))\n",
    "    loss = loss_object(y, ŷ)\n",
    "    mask = tf.cast(mask, dtype=loss.dtype)\n",
    "    loss = loss * mask\n",
    "    return tf.reduce_mean(loss)"
   ]
  },
  {
   "cell_type": "code",
   "execution_count": 263,
   "metadata": {},
   "outputs": [],
   "source": [
    "train_loss = tfk.metrics.Mean(name='train_loss')\n",
    "train_accuracy = tfk.metrics.SparseCategoricalAccuracy(name='train_accuracy')"
   ]
  },
  {
   "cell_type": "code",
   "execution_count": 264,
   "metadata": {},
   "outputs": [],
   "source": [
    "transformer = Transformer(num_layers, model_depth, num_heads, ffn_hidden_size,\n",
    "                          input_vocab_size, target_vocab_size, dropout_rate)"
   ]
  },
  {
   "cell_type": "code",
   "execution_count": 265,
   "metadata": {},
   "outputs": [],
   "source": [
    "checkpointpath = \"/tmp/checkpoints/train\"\n",
    "ckpt = tf.train.Checkpoint(transformer=transformer,\n",
    "                           optimizer=optimizer)\n",
    "ckpt_manager = tf.train.CheckpointManager(ckpt, checkpointpath, max_to_keep=5)\n",
    "\n",
    "if ckpt_manager.latest_checkpoint:\n",
    "    ckpt.restore(ckpt_manager.latest_checkpoint)\n",
    "    print(\"Latest checkpoint restored.\")"
   ]
  },
  {
   "cell_type": "code",
   "execution_count": 266,
   "metadata": {},
   "outputs": [],
   "source": [
    "#@tf.function\n",
    "def train_step(x, y):\n",
    "    y_i = y[:, :-1] # y input\n",
    "    y_o = y[:, 1:] # y output\n",
    "    \n",
    "    encoder_padding_mask, look_ahead_mask, decoder_padding_mask = create_masks(x, y_i)\n",
    "    \n",
    "    with tf.GradientTape() as tape:\n",
    "        ŷ, _ = transformer(x, y_i,\n",
    "                           True, # training\n",
    "                           encoder_padding_mask,\n",
    "                           look_ahead_mask,\n",
    "                           decoder_padding_mask)\n",
    "        loss = loss_function(y_o, ŷ)\n",
    "        \n",
    "    gradients = tape.gradient(loss, transformer.trainable_variables)\n",
    "    optimizer.apply_gradients(zip(gradients, transformer.trainable_variables))\n",
    "    \n",
    "    train_loss(loss)\n",
    "    train_accuracy(y_o, ŷ)"
   ]
  },
  {
   "cell_type": "code",
   "execution_count": null,
   "metadata": {},
   "outputs": [],
   "source": []
  },
  {
   "cell_type": "code",
   "execution_count": 267,
   "metadata": {
    "scrolled": true
   },
   "outputs": [
    {
     "name": "stdout",
     "output_type": "stream",
     "text": [
      "Epoch 1 Iteration 0 Loss 4.3648 Accuracy 0.0000\n",
      "Epoch 1 Iteration 200 Loss 3.2593 Accuracy 0.0422\n",
      "Epoch 1 Iteration 400 Loss 2.9967 Accuracy 0.0652\n",
      "Epoch 1 Iteration 600 Loss 2.8093 Accuracy 0.0818\n",
      "Epoch 1 Loss 2.7363 Accuracy 0.0881\n",
      "Time taken for 1 epoch: 272.24140644073486 secs\n",
      "\n",
      "Epoch 2 Iteration 0 Loss 2.3118 Accuracy 0.1283\n",
      "Epoch 2 Iteration 200 Loss 2.2630 Accuracy 0.1325\n",
      "Epoch 2 Iteration 400 Loss 2.2350 Accuracy 0.1367\n",
      "Epoch 2 Iteration 600 Loss 2.1974 Accuracy 0.1400\n",
      "Epoch 2 Loss 2.1777 Accuracy 0.1414\n",
      "Time taken for 1 epoch: 268.45932030677795 secs\n",
      "\n",
      "Epoch 3 Iteration 0 Loss 2.0783 Accuracy 0.1558\n",
      "Epoch 3 Iteration 200 Loss 2.0438 Accuracy 0.1543\n",
      "Epoch 3 Iteration 400 Loss 2.0173 Accuracy 0.1588\n",
      "Epoch 3 Iteration 600 Loss 1.9815 Accuracy 0.1624\n",
      "Epoch 3 Loss 1.9603 Accuracy 0.1645\n",
      "Time taken for 1 epoch: 270.88839769363403 secs\n",
      "\n",
      "Epoch 4 Iteration 0 Loss 1.8607 Accuracy 0.1830\n",
      "Epoch 4 Iteration 200 Loss 1.8033 Accuracy 0.1831\n",
      "Epoch 4 Iteration 400 Loss 1.7786 Accuracy 0.1879\n",
      "Epoch 4 Iteration 600 Loss 1.7441 Accuracy 0.1917\n",
      "Epoch 4 Loss 1.7256 Accuracy 0.1934\n",
      "Time taken for 1 epoch: 268.42261838912964 secs\n",
      "\n",
      "Epoch 5 Iteration 0 Loss 1.5972 Accuracy 0.2064\n",
      "Epoch 5 Iteration 200 Loss 1.5927 Accuracy 0.2088\n",
      "Epoch 5 Iteration 400 Loss 1.5749 Accuracy 0.2120\n",
      "Epoch 5 Iteration 600 Loss 1.5469 Accuracy 0.2145\n",
      "Epoch 5 Loss 1.5321 Accuracy 0.2157\n",
      "Time taken for 1 epoch: 270.3127558231354 secs\n",
      "\n",
      "Epoch 6 Iteration 0 Loss 1.4255 Accuracy 0.2286\n",
      "Epoch 6 Iteration 200 Loss 1.4146 Accuracy 0.2276\n",
      "Epoch 6 Iteration 400 Loss 1.3926 Accuracy 0.2316\n",
      "Epoch 6 Iteration 600 Loss 1.3605 Accuracy 0.2352\n",
      "Epoch 6 Loss 1.3451 Accuracy 0.2365\n",
      "Time taken for 1 epoch: 265.21629071235657 secs\n",
      "\n",
      "Epoch 7 Iteration 0 Loss 1.2282 Accuracy 0.2504\n",
      "Epoch 7 Iteration 200 Loss 1.2271 Accuracy 0.2501\n",
      "Epoch 7 Iteration 400 Loss 1.2120 Accuracy 0.2536\n",
      "Epoch 7 Iteration 600 Loss 1.1867 Accuracy 0.2564\n",
      "Epoch 7 Loss 1.1749 Accuracy 0.2573\n",
      "Time taken for 1 epoch: 270.2024817466736 secs\n",
      "\n",
      "Epoch 8 Iteration 0 Loss 1.1024 Accuracy 0.2755\n",
      "Epoch 8 Iteration 200 Loss 1.0913 Accuracy 0.2672\n",
      "Epoch 8 Iteration 400 Loss 1.0787 Accuracy 0.2703\n",
      "Epoch 8 Iteration 600 Loss 1.0600 Accuracy 0.2724\n",
      "Epoch 8 Loss 1.0508 Accuracy 0.2730\n",
      "Time taken for 1 epoch: 269.51801919937134 secs\n",
      "\n",
      "Epoch 9 Iteration 0 Loss 1.0256 Accuracy 0.2829\n",
      "Epoch 9 Iteration 200 Loss 0.9864 Accuracy 0.2806\n",
      "Epoch 9 Iteration 400 Loss 0.9778 Accuracy 0.2832\n",
      "Epoch 9 Iteration 600 Loss 0.9638 Accuracy 0.2847\n",
      "Epoch 9 Loss 0.9569 Accuracy 0.2850\n",
      "Time taken for 1 epoch: 269.64886021614075 secs\n",
      "\n",
      "Epoch 10 Iteration 0 Loss 0.9422 Accuracy 0.2998\n",
      "Epoch 10 Iteration 200 Loss 0.9100 Accuracy 0.2908\n",
      "Epoch 10 Iteration 400 Loss 0.9042 Accuracy 0.2930\n",
      "Epoch 10 Iteration 600 Loss 0.8916 Accuracy 0.2942\n",
      "Epoch 10 Loss 0.8859 Accuracy 0.2944\n",
      "Time taken for 1 epoch: 268.5158987045288 secs\n",
      "\n",
      "Epoch 11 Iteration 0 Loss 0.8857 Accuracy 0.3076\n",
      "Epoch 11 Iteration 200 Loss 0.8478 Accuracy 0.2993\n",
      "Epoch 11 Iteration 400 Loss 0.8433 Accuracy 0.3012\n",
      "Epoch 11 Iteration 600 Loss 0.8323 Accuracy 0.3022\n",
      "Epoch 11 Loss 0.8273 Accuracy 0.3023\n",
      "Time taken for 1 epoch: 268.9038496017456 secs\n",
      "\n",
      "Epoch 12 Iteration 0 Loss 0.8302 Accuracy 0.3166\n",
      "Epoch 12 Iteration 200 Loss 0.7951 Accuracy 0.3063\n",
      "Epoch 12 Iteration 400 Loss 0.7918 Accuracy 0.3082\n",
      "Epoch 12 Iteration 600 Loss 0.7828 Accuracy 0.3088\n",
      "Epoch 12 Loss 0.7789 Accuracy 0.3087\n",
      "Time taken for 1 epoch: 270.33103251457214 secs\n",
      "\n",
      "Epoch 13 Iteration 0 Loss 0.7910 Accuracy 0.3170\n",
      "Epoch 13 Iteration 200 Loss 0.7492 Accuracy 0.3125\n",
      "Epoch 13 Iteration 400 Loss 0.7479 Accuracy 0.3142\n",
      "Epoch 13 Iteration 600 Loss 0.7398 Accuracy 0.3150\n",
      "Epoch 13 Loss 0.7360 Accuracy 0.3149\n",
      "Time taken for 1 epoch: 270.7569408416748 secs\n",
      "\n",
      "Epoch 14 Iteration 0 Loss 0.7556 Accuracy 0.3207\n",
      "Epoch 14 Iteration 200 Loss 0.7138 Accuracy 0.3177\n",
      "Epoch 14 Iteration 400 Loss 0.7112 Accuracy 0.3195\n",
      "Epoch 14 Iteration 600 Loss 0.7038 Accuracy 0.3201\n",
      "Epoch 14 Loss 0.7005 Accuracy 0.3199\n",
      "Time taken for 1 epoch: 267.4061007499695 secs\n",
      "\n",
      "Epoch 15 Iteration 0 Loss 0.7090 Accuracy 0.3335\n",
      "Epoch 15 Iteration 200 Loss 0.6812 Accuracy 0.3223\n",
      "Epoch 15 Iteration 400 Loss 0.6774 Accuracy 0.3245\n",
      "Epoch 15 Iteration 600 Loss 0.6700 Accuracy 0.3251\n",
      "Epoch 15 Loss 0.6674 Accuracy 0.3248\n",
      "Time taken for 1 epoch: 269.9183249473572 secs\n",
      "\n",
      "Epoch 16 Iteration 0 Loss 0.7113 Accuracy 0.3277\n",
      "Epoch 16 Iteration 200 Loss 0.6488 Accuracy 0.3273\n",
      "Epoch 16 Iteration 400 Loss 0.6460 Accuracy 0.3292\n",
      "Epoch 16 Iteration 600 Loss 0.6400 Accuracy 0.3297\n",
      "Epoch 16 Loss 0.6379 Accuracy 0.3294\n",
      "Time taken for 1 epoch: 271.8061819076538 secs\n",
      "\n",
      "Epoch 17 Iteration 0 Loss 0.6544 Accuracy 0.3368\n",
      "Epoch 17 Iteration 200 Loss 0.6237 Accuracy 0.3309\n",
      "Epoch 17 Iteration 400 Loss 0.6207 Accuracy 0.3331\n",
      "Epoch 17 Iteration 600 Loss 0.6155 Accuracy 0.3334\n",
      "Epoch 17 Loss 0.6134 Accuracy 0.3331\n",
      "Time taken for 1 epoch: 274.65242648124695 secs\n",
      "\n",
      "Epoch 18 Iteration 0 Loss 0.6563 Accuracy 0.3429\n",
      "Epoch 18 Iteration 200 Loss 0.5996 Accuracy 0.3350\n",
      "Epoch 18 Iteration 400 Loss 0.5994 Accuracy 0.3365\n",
      "Epoch 18 Iteration 600 Loss 0.5936 Accuracy 0.3368\n",
      "Epoch 18 Loss 0.5914 Accuracy 0.3365\n",
      "Time taken for 1 epoch: 268.89922547340393 secs\n",
      "\n",
      "Epoch 19 Iteration 0 Loss 0.6250 Accuracy 0.3433\n",
      "Epoch 19 Iteration 200 Loss 0.5769 Accuracy 0.3381\n",
      "Epoch 19 Iteration 400 Loss 0.5767 Accuracy 0.3397\n",
      "Epoch 19 Iteration 600 Loss 0.5713 Accuracy 0.3401\n",
      "Epoch 19 Loss 0.5685 Accuracy 0.3399\n",
      "Time taken for 1 epoch: 270.3922219276428 secs\n",
      "\n",
      "Epoch 20 Iteration 0 Loss 0.5970 Accuracy 0.3454\n",
      "Epoch 20 Iteration 200 Loss 0.5564 Accuracy 0.3418\n",
      "Epoch 20 Iteration 400 Loss 0.5572 Accuracy 0.3432\n",
      "Epoch 20 Iteration 600 Loss 0.5526 Accuracy 0.3434\n",
      "Epoch 20 Loss 0.5500 Accuracy 0.3432\n",
      "Time taken for 1 epoch: 268.75853085517883 secs\n",
      "\n"
     ]
    }
   ],
   "source": [
    "for epoch in range(EPOCHS):\n",
    "    start = time.time()\n",
    "    \n",
    "    train_loss.reset_states()\n",
    "    train_accuracy.reset_states()\n",
    "    \n",
    "    for (it, (x, y)) in enumerate(train_dataset):\n",
    "        train_step(x, y)\n",
    "        if it % 200 == 0:\n",
    "            print('Epoch {} Iteration {} Loss {:.4f} Accuracy {:.4f}'.format(\n",
    "                epoch+1, it, train_loss.result(), train_accuracy.result()))\n",
    "    \n",
    "    print('Epoch {} Loss {:.4f} Accuracy {:.4f}'.format(epoch+1,\n",
    "                                                        train_loss.result(),\n",
    "                                                        train_accuracy.result()))\n",
    "    \n",
    "    print('Time taken for 1 epoch: {} secs\\n'.format(time.time() - start))"
   ]
  },
  {
   "cell_type": "code",
   "execution_count": null,
   "metadata": {},
   "outputs": [],
   "source": []
  },
  {
   "cell_type": "markdown",
   "metadata": {},
   "source": [
    "## Evaluate\n",
    "\n",
    "* The decoder starts with the `start token` as the input\n",
    "* The decoder predicts the next word based on the previous words it predicted\n",
    "* We concatenate the predicted word to the current input to be the input of next iteration"
   ]
  },
  {
   "cell_type": "code",
   "execution_count": 269,
   "metadata": {},
   "outputs": [],
   "source": [
    "def evaluate (input_sentence):\n",
    "    \"\"\"\n",
    "    input_sentence is a sentence to the encoder.\n",
    "    \"\"\"\n",
    "    x = [tokenizer_pt.vocab_size] + tokenizer_pt.encode(input_sentence)\\\n",
    "        + [tokenizer_pt.vocab_size + 1]\n",
    "    x = tf.expand_dims(x, 0) # add batch dimension\n",
    "    \n",
    "    y = tf.expand_dims([tokenizer_en.vocab_size], 0) # (batch, seq_len)\n",
    "    \n",
    "    for i in range(MAX_LENGTH):\n",
    "        encoder_padding_mask, look_ahead_mask, decoder_padding_mask = create_masks(x, y)\n",
    "        \n",
    "        predictions, attention_weights = transformer(x, \n",
    "                                                     y,\n",
    "                                                     False,\n",
    "                                                     encoder_padding_mask,\n",
    "                                                     look_ahead_mask,\n",
    "                                                     decoder_padding_mask)\n",
    "        ## (batch, 1, vocab_size)\n",
    "        last_prediction = predictions[:, -1:, :]\n",
    "        ## (batch, 1)\n",
    "        last_token = tf.cast(tf.argmax(last_prediction, axis=-1), tf.int32)\n",
    "        \n",
    "        ## reached the end token\n",
    "        if tf.equal(last_token, tokenizer_en.vocab_size+1):\n",
    "            return tf.squeeze(y, axis=0), attention_weights\n",
    "        \n",
    "        ## concatenate the last token to y \n",
    "        y = tf.concat([y, last_token], axis=-1)\n",
    "        \n",
    "    return tf.squeeze(y, axis=0), attention_weights"
   ]
  },
  {
   "cell_type": "code",
   "execution_count": 270,
   "metadata": {},
   "outputs": [],
   "source": [
    "def translate(input_sentence, layer=None):\n",
    "    y, attention_weights = evaluate(input_sentence)\n",
    "    \n",
    "    output_sentence = tokenizer_en.decode([i for i in y if i < tokenizer_en.vocab_size])\n",
    "    \n",
    "    print('Input: {}'.format(input_sentence))\n",
    "    print('Translation: {}'.format(output_sentence))\n",
    "    \n",
    "    if layer is not None:\n",
    "        plot_attention_weights(attention_weights, input_sentence, y, layer)"
   ]
  },
  {
   "cell_type": "code",
   "execution_count": 272,
   "metadata": {},
   "outputs": [
    {
     "name": "stdout",
     "output_type": "stream",
     "text": [
      "Input: este é um problema que temos que resolver.\n",
      "Translation: this is a problem that we have to be solved .\n",
      "Real translation: this is a problem we have to solve .\n"
     ]
    }
   ],
   "source": [
    "translate(\"este é um problema que temos que resolver.\")\n",
    "print (\"Real translation: this is a problem we have to solve .\")"
   ]
  },
  {
   "cell_type": "code",
   "execution_count": 273,
   "metadata": {},
   "outputs": [
    {
     "name": "stdout",
     "output_type": "stream",
     "text": [
      "Input: os meus vizinhos ouviram sobre esta ideia.\n",
      "Translation: my neighbors heard about this idea .\n",
      "Real translation: and my neighboring homes heard about this idea .\n"
     ]
    }
   ],
   "source": [
    "translate(\"os meus vizinhos ouviram sobre esta ideia.\")\n",
    "print (\"Real translation: and my neighboring homes heard about this idea .\")"
   ]
  },
  {
   "cell_type": "code",
   "execution_count": null,
   "metadata": {},
   "outputs": [],
   "source": []
  },
  {
   "cell_type": "code",
   "execution_count": null,
   "metadata": {},
   "outputs": [],
   "source": []
  },
  {
   "cell_type": "code",
   "execution_count": null,
   "metadata": {},
   "outputs": [],
   "source": []
  },
  {
   "cell_type": "code",
   "execution_count": null,
   "metadata": {},
   "outputs": [],
   "source": []
  },
  {
   "cell_type": "code",
   "execution_count": null,
   "metadata": {},
   "outputs": [],
   "source": []
  },
  {
   "cell_type": "code",
   "execution_count": null,
   "metadata": {},
   "outputs": [],
   "source": []
  },
  {
   "cell_type": "code",
   "execution_count": null,
   "metadata": {},
   "outputs": [],
   "source": []
  },
  {
   "cell_type": "code",
   "execution_count": null,
   "metadata": {},
   "outputs": [],
   "source": []
  },
  {
   "cell_type": "code",
   "execution_count": null,
   "metadata": {},
   "outputs": [],
   "source": []
  },
  {
   "cell_type": "code",
   "execution_count": null,
   "metadata": {},
   "outputs": [],
   "source": []
  },
  {
   "cell_type": "code",
   "execution_count": null,
   "metadata": {},
   "outputs": [],
   "source": []
  }
 ],
 "metadata": {
  "kernelspec": {
   "display_name": "Python 3",
   "language": "python",
   "name": "python3"
  },
  "language_info": {
   "codemirror_mode": {
    "name": "ipython",
    "version": 3
   },
   "file_extension": ".py",
   "mimetype": "text/x-python",
   "name": "python",
   "nbconvert_exporter": "python",
   "pygments_lexer": "ipython3",
   "version": "3.7.1"
  }
 },
 "nbformat": 4,
 "nbformat_minor": 2
}
