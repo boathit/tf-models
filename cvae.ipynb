{
 "cells": [
  {
   "cell_type": "code",
   "execution_count": 1,
   "metadata": {},
   "outputs": [],
   "source": [
    "import tensorflow as tf\n",
    "import tensorflow.keras as tfk\n",
    "import tensorflow_datasets as tfd\n",
    "\n",
    "import glob\n",
    "import imageio\n",
    "import matplotlib.pyplot as plt\n",
    "import numpy as np\n",
    "import os\n",
    "import PIL\n",
    "import time\n",
    "\n",
    "from IPython import display"
   ]
  },
  {
   "cell_type": "markdown",
   "metadata": {},
   "source": [
    "## Prepare the dataset"
   ]
  },
  {
   "cell_type": "code",
   "execution_count": 2,
   "metadata": {},
   "outputs": [],
   "source": [
    "dataset = tfd.load('mnist', as_supervised=True)\n",
    "mnist_train, mnist_test = dataset['train'], dataset['test']"
   ]
  },
  {
   "cell_type": "code",
   "execution_count": 3,
   "metadata": {},
   "outputs": [],
   "source": [
    "def convert_types(image, label):\n",
    "    image = tf.cast(image, tf.float32)\n",
    "    image /= 255.0\n",
    "    ## Binarization\n",
    "    ONES, ZEROS = tf.ones_like(image), tf.zeros_like(image)\n",
    "    return tf.where(image >= .5, ONES, ZEROS)"
   ]
  },
  {
   "cell_type": "code",
   "execution_count": 4,
   "metadata": {},
   "outputs": [],
   "source": [
    "TRAIN_BUFFER_SIZE = 60000\n",
    "TEST_BUFFER_SIZE = 10000\n",
    "BATCH_SIZE = 256"
   ]
  },
  {
   "cell_type": "code",
   "execution_count": 5,
   "metadata": {},
   "outputs": [],
   "source": [
    "train_dataset = mnist_train.map(convert_types).shuffle(TRAIN_BUFFER_SIZE).batch(BATCH_SIZE)\n",
    "test_dataset = mnist_test.map(convert_types).shuffle(TEST_BUFFER_SIZE).batch(BATCH_SIZE)"
   ]
  },
  {
   "cell_type": "code",
   "execution_count": 6,
   "metadata": {},
   "outputs": [
    {
     "name": "stdout",
     "output_type": "stream",
     "text": [
      "(256, 28, 28, 1)\n"
     ]
    }
   ],
   "source": [
    "print(next(iter(train_dataset.take(1))).shape)"
   ]
  },
  {
   "cell_type": "code",
   "execution_count": 7,
   "metadata": {},
   "outputs": [],
   "source": [
    "class CVAE(tfk.Model):\n",
    "    def __init__(self, latent_dim):\n",
    "        super(CVAE, self).__init__()\n",
    "        self.latent_dim = latent_dim\n",
    "        self.inference_net = tfk.Sequential([\n",
    "            tfk.layers.InputLayer(input_shape=(28, 28, 1)),\n",
    "            tfk.layers.Conv2D(filters=32, kernel_size=3, strides=(2,2), activation='relu'),\n",
    "            tfk.layers.Conv2D(filters=64, kernel_size=3, strides=(2,2), activation='relu'),\n",
    "            tfk.layers.Flatten(),\n",
    "            # μ, logvar\n",
    "            tfk.layers.Dense(latent_dim+latent_dim)\n",
    "        ])\n",
    "        self.generative_net = tfk.Sequential([\n",
    "            tfk.layers.InputLayer(input_shape=(latent_dim,)),\n",
    "            tfk.layers.Dense(units=7*7*32, activation='relu'),\n",
    "            tfk.layers.Reshape(target_shape=(7, 7, 32)),\n",
    "            tfk.layers.Conv2DTranspose(filters=64, kernel_size=3, strides=(2,2), \n",
    "                                       padding='SAME', activation='relu'),\n",
    "            tfk.layers.Conv2DTranspose(filters=32, kernel_size=3, strides=(2,2),\n",
    "                                       padding='SAME', activation='relu'),\n",
    "            tfk.layers.Conv2DTranspose(filters=1, kernel_size=3, strides=(1,1), padding='SAME')\n",
    "        ])\n",
    "        \n",
    "    def sample(self, z=None):\n",
    "        \"\"\"\n",
    "        Draw a sample from p(x|z).\n",
    "        \"\"\"\n",
    "        if z is None:\n",
    "            z = tf.random.normal(shape=(100, self.latent_dim))\n",
    "        return self.decode(z, apply_sigmoid=True)\n",
    "\n",
    "    def encode(self, x):\n",
    "        \"\"\"\n",
    "        Encode x into the parameters of its distribution.\n",
    "        \"\"\"\n",
    "        m, logvar = tf.split(self.inference_net(x), num_or_size_splits=2, axis=1)\n",
    "        return m, logvar\n",
    "\n",
    "    def reparameterize(self, m, logvar):\n",
    "        ϵ = tf.random.normal(shape=m.shape)\n",
    "        return ϵ * tf.exp(logvar * .5) + m\n",
    "\n",
    "    def decode(self, z, apply_sigmoid=False):\n",
    "        \"\"\"\n",
    "        Map z to x, it will be called by `sample`.\n",
    "        \"\"\"\n",
    "        logits = self.generative_net(z)\n",
    "        if apply_sigmoid:\n",
    "            return tf.sigmoid(logits)\n",
    "        return logits"
   ]
  },
  {
   "cell_type": "markdown",
   "metadata": {},
   "source": [
    "## Define the loss and optimizer\n",
    "\n",
    "VAEs is optimized by maximizing the evidence lower bound (ELBO):\n",
    "\n",
    "$$\n",
    "\\log p(x) \\geq \\mathrm{ELBO} = \\mathbb{E}_{q(z|x)}\\left[\\log \\frac{p(x,z)}{q(z|x)} \\right]\n",
    "$$\n",
    "\n",
    "In practice, we use Monte Carlo method to approximate it:\n",
    "\n",
    "$$\n",
    "\\log p(x|z) + \\log p(z) - \\log q(z|x)\n",
    "$$\n",
    "\n",
    "Note that the last two terms actually computes the $-\\mathrm{KL}[q(z|x) || p(z)]$; when the KL term can be computed analytically we are only required to evaluate the first term with Monte Carlo method, but here we incoporate all three terms in the Monte Carlo estimator for simplicity:"
   ]
  },
  {
   "cell_type": "code",
   "execution_count": 8,
   "metadata": {},
   "outputs": [],
   "source": [
    "latent_dim = 50\n",
    "\n",
    "model = CVAE(latent_dim)\n",
    "optimizer = tfk.optimizers.Adam(1e-4)"
   ]
  },
  {
   "cell_type": "code",
   "execution_count": 19,
   "metadata": {},
   "outputs": [],
   "source": [
    "def log_normal_pdf(sample, mean, logvar, axis=1):\n",
    "    log2pi = tf.math.log(2. * np.pi)\n",
    "    return tf.reduce_sum(\n",
    "        -.5 * ((sample - mean)**2.0 * tf.exp(-logvar) + logvar + log2pi),\n",
    "        axis=axis)\n",
    "\n",
    "def compute_loss(model, x):\n",
    "    m, logvar = model.encode(x)\n",
    "    z = model.reparameterize(m, logvar)\n",
    "    logits = model.decode(z)\n",
    "    \n",
    "    cross_entropy = tf.nn.sigmoid_cross_entropy_with_logits(logits=logits, labels=x)\n",
    "    logpxz = -tf.reduce_sum(cross_entropy, axis=[1, 2, 3])\n",
    "    logpz  = log_normal_pdf(z, 0., 0.)\n",
    "    logqzx = log_normal_pdf(z, m, logvar)\n",
    "    return -tf.reduce_mean(logpxz + logpz - logqzx)"
   ]
  },
  {
   "cell_type": "code",
   "execution_count": 20,
   "metadata": {},
   "outputs": [],
   "source": [
    "@tf.function\n",
    "def train_step(model, x):\n",
    "    with tf.GradientTape() as tape:\n",
    "        loss = compute_loss(model, x)\n",
    "    \n",
    "    gradients = tape.gradient(loss, model.trainable_variables)\n",
    "    optimizer.apply_gradients(zip(gradients, model.trainable_variables))"
   ]
  },
  {
   "cell_type": "code",
   "execution_count": null,
   "metadata": {},
   "outputs": [],
   "source": [
    "def train(model, dataset, epochs):\n",
    "    for epoch in range(epochs):\n",
    "        start = time.time()\n",
    "        \n",
    "        for x in dataset:\n",
    "            train_step(model, x)\n",
    "            \n",
    "        display.clear_output(wait=True)\n",
    "        generate_and_save_images(model, epoch+1, seed)\n",
    "            \n",
    "        print(\"Time for epoch {} is {} sec\".format(epoch+1, time.time()-start))\n",
    "        \n",
    "    display.clear_output(wait=True)\n",
    "    generate_and_save_images(model, epochs, seed)"
   ]
  },
  {
   "cell_type": "code",
   "execution_count": null,
   "metadata": {},
   "outputs": [],
   "source": [
    "def generate_and_save_images(model, epoch, test_input):\n",
    "    predictions = model.sample(test_input)\n",
    "\n",
    "    fig = plt.figure(figsize=(4,4))\n",
    "  \n",
    "    for i in range(predictions.shape[0]):\n",
    "        plt.subplot(4, 4, i+1)\n",
    "        plt.imshow(predictions[i, :, :, 0], cmap='gray')\n",
    "        plt.axis('off')\n",
    "        \n",
    "    #plt.savefig('image_at_epoch_{:04d}.png'.format(epoch))\n",
    "    plt.show()"
   ]
  },
  {
   "cell_type": "markdown",
   "metadata": {},
   "source": [
    "## Training"
   ]
  },
  {
   "cell_type": "code",
   "execution_count": 21,
   "metadata": {},
   "outputs": [],
   "source": [
    "epochs = 100\n",
    "num_examples = 16\n",
    "\n",
    "seed = tf.random.normal([num_examples, latent_dim])"
   ]
  },
  {
   "cell_type": "code",
   "execution_count": null,
   "metadata": {},
   "outputs": [],
   "source": []
  },
  {
   "cell_type": "code",
   "execution_count": 25,
   "metadata": {},
   "outputs": [
    {
     "data": {
      "image/png": "[encoded data removed]",
      "text/plain": [
       "<Figure size 288x288 with 16 Axes>"
      ]
     },
     "metadata": {
      "needs_background": "light"
     },
     "output_type": "display_data"
    },
    {
     "name": "stdout",
     "output_type": "stream",
     "text": [
      "CPU times: user 34min 20s, sys: 8min 18s, total: 42min 39s\n",
      "Wall time: 12min\n"
     ]
    }
   ],
   "source": [
    "%%time\n",
    "train(model, train_dataset, epochs)"
   ]
  },
  {
   "cell_type": "code",
   "execution_count": null,
   "metadata": {},
   "outputs": [],
   "source": []
  },
  {
   "cell_type": "code",
   "execution_count": null,
   "metadata": {},
   "outputs": [],
   "source": []
  }
 ],
 "metadata": {
  "kernelspec": {
   "display_name": "Python 3",
   "language": "python",
   "name": "python3"
  },
  "language_info": {
   "codemirror_mode": {
    "name": "ipython",
    "version": 3
   },
   "file_extension": ".py",
   "mimetype": "text/x-python",
   "name": "python",
   "nbconvert_exporter": "python",
   "pygments_lexer": "ipython3",
   "version": "3.7.1"
  }
 },
 "nbformat": 4,
 "nbformat_minor": 2
}
